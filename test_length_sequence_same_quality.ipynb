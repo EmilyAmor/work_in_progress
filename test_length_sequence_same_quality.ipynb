{
 "cells": [
  {
   "cell_type": "code",
   "execution_count": 8,
   "metadata": {},
   "outputs": [
    {
     "name": "stdout",
     "output_type": "stream",
     "text": [
      "hello world\n",
      "\n",
      "this is me\n",
      "\n",
      "Emily!\n",
      "\n"
     ]
    }
   ],
   "source": [
    "filename = \"hello.txt\"\n",
    "file = open(filename, 'r')\n",
    "for line in file:\n",
    "    print (line)"
   ]
  },
  {
   "cell_type": "code",
   "execution_count": 5,
   "metadata": {},
   "outputs": [
    {
     "name": "stdout",
     "output_type": "stream",
     "text": [
      "['@D00765:114:HTT3KBCXY:1:1106:1206:1928 1:N:0:ATCACG\\n', 'NTTGTTGCTCGCTTTCCCGAATCGAATTCGCGTACCCAGTGAGACATTGGAGACATAGAACTGGGTAGCGGGTGGATTTGCATGAAGATTTGATGAAGTTTGTTGGGTTGGACTGTTTTGGAAAGGTGGATTCAGCTGTGGCAACCGCGT\\n', '+\\n', '#<<GGGGIIGGIGGIGGGGIGIIIGIGIGIGIIGGGIIIGIAGGGGGGIGGGGGGIIIIIGGIIIIGIGIIIIIGGGGGGGGGGGGGGAGGGGGGGGGAGGGGGGGIIIGIIIGIGGGIIGGGIIIIIGIGIGGIIIIIGAGGAGGGGGG\\n', '@D00765:114:HTT3KBCXY:1:1106:1048:1949 1:N:0:ATCACG\\n', 'AAGCAATCGGTTCAAATAGATTATTCAACAACTAGTTCTTGACCCTTAAAATTTGCTTTATGCCTTTAGAATTTTACTTCTAACATACAAAAATTCTATTCCATAACTGCAACTCCTCCAGCAGCTTTTAGCTTTTCTATGATACCATTTT\\n', '+\\n', 'A..AAGGAGGGG.GAGGGG.AGGGGAGGG.AGG<AG.<GGGAGIGGGIGAGGGGGGGGGGG.<<GGG<AG.GAGG.GGGGGGAGGGIIAGA<.GAAGAAGIGGGGIGGGGGGGGGGGGGAG.<.<AGAGGGGGAGGAGAGG.GAAGGGGG.\\n']\n"
     ]
    }
   ],
   "source": [
    "filename = \"sequence.fastq\"\n",
    "file = open(filename, 'r')\n",
    "fastq = file.readlines()\n",
    "print (fastq)"
   ]
  },
  {
   "cell_type": "code",
   "execution_count": 14,
   "metadata": {},
   "outputs": [
    {
     "name": "stdout",
     "output_type": "stream",
     "text": [
      "@D00765:114:HTT3KBCXY:1:1106:1206:1928 1:N:0:ATCACG\n",
      "\n",
      "NTTGTTGCTCGCTTTCCCGAATCGAATTCGCGTACCCAGTGAGACATTGGAGACATAGAACTGGGTAGCGGGTGGATTTGCATGAAGATTTGATGAAGTTTGTTGGGTTGGACTGTTTTGGAAAGGTGGATTCAGCTGTGGCAACCGCGT\n",
      "\n",
      "+\n",
      "\n",
      "#<<GGGGIIGGIGGIGGGGIGIIIGIGIGIGIIGGGIIIGIAGGGGGGIGGGGGGIIIIIGGIIIIGIGIIIIIGGGGGGGGGGGGGGAGGGGGGGGGAGGGGGGGIIIGIIIGIGGGIIGGGIIIIIGIGIGGIIIIIGAGGAGGGGGG\n",
      "\n",
      "@D00765:114:HTT3KBCXY:1:1106:1048:1949 1:N:0:ATCACG\n",
      "\n",
      "AAGCAATCGGTTCAAATAGATTATTCAACAACTAGTTCTTGACCCTTAAAATTTGCTTTATGCCTTTAGAATTTTACTTCTAACATACAAAAATTCTATTCCATAACTGCAACTCCTCCAGCAGCTTTTAGCTTTTCTATGATACCATTTT\n",
      "\n",
      "+\n",
      "\n",
      "A..AAGGAGGGG.GAGGGG.AGGGGAGGG.AGG<AG.<GGGAGIGGGIGAGGGGGGGGGGG.<<GGG<AG.GAGG.GGGGGGAGGGIIAGA<.GAAGAAGIGGGGIGGGGGGGGGGGGGAG.<.<AGAGGGGGAGGAGAGG.GAAGGGGG.\n",
      "\n"
     ]
    }
   ],
   "source": [
    "for i in fastq:\n",
    "    print (i)"
   ]
  },
  {
   "cell_type": "code",
   "execution_count": 20,
   "metadata": {},
   "outputs": [
    {
     "name": "stdout",
     "output_type": "stream",
     "text": [
      "51\n",
      "150\n",
      "1\n",
      "150\n",
      "51\n",
      "151\n",
      "1\n",
      "151\n"
     ]
    }
   ],
   "source": [
    "for line in fastq:\n",
    "    line = line.replace('\\n','')\n",
    "    print (len(line))"
   ]
  },
  {
   "cell_type": "code",
   "execution_count": 22,
   "metadata": {},
   "outputs": [
    {
     "data": {
      "text/plain": [
       "[51, 150, 1, 150, 51, 151, 1, 151]"
      ]
     },
     "execution_count": 22,
     "metadata": {},
     "output_type": "execute_result"
    }
   ],
   "source": [
    "lengths = []\n",
    "for line in fastq:\n",
    "    line = line.replace('\\n','')\n",
    "    lengths.append(len(line))\n",
    "lengths"
   ]
  },
  {
   "cell_type": "code",
   "execution_count": 29,
   "metadata": {},
   "outputs": [],
   "source": [
    "count_1 = 1\n",
    "count_2 = 3\n",
    "for length in lengths:\n",
    "    if lengths[count_1] == lengths[count_2]:\n",
    "        count_1 + 4\n",
    "        count_2 + 4\n",
    "    else:\n",
    "        print (\"error\")"
   ]
  },
  {
   "cell_type": "code",
   "execution_count": 45,
   "metadata": {},
   "outputs": [
    {
     "name": "stdout",
     "output_type": "stream",
     "text": [
      "error\n",
      "5 7\n"
     ]
    }
   ],
   "source": [
    "L = [51, 150, 1, 150, 51, 151, 1, 157]\n",
    "count_1 = 1\n",
    "count_2 = 3\n",
    "for length in L:\n",
    "    #print (L[count_1])\n",
    "    #print (L[count_2])\n",
    "    if L[count_1] != L[count_2]:\n",
    "        print ('error')\n",
    "        print (count_1, count_2)\n",
    "        break\n",
    "    else:\n",
    "        count_1 += 4\n",
    "        count_2 += 4 \n",
    "    \n",
    "   "
   ]
  },
  {
   "cell_type": "code",
   "execution_count": 66,
   "metadata": {},
   "outputs": [
    {
     "name": "stdout",
     "output_type": "stream",
     "text": [
      "error\n",
      "1 3\n",
      "error\n",
      "1 3\n",
      "error\n",
      "1 3\n",
      "error\n",
      "1 3\n",
      "error\n",
      "1 3\n",
      "error\n",
      "1 3\n",
      "error\n",
      "1 3\n",
      "error\n",
      "1 3\n"
     ]
    }
   ],
   "source": [
    "filename = \"sequence.fastq\"\n",
    "file = open(filename, 'r')\n",
    "fastq = file.readlines()\n",
    "#print (fastq)\n",
    "L = []\n",
    "for line in fastq:\n",
    "    line = line.replace('\\n','')\n",
    "    L.append(len(line))\n",
    "#print (lengths)\n",
    "count_1 = 1\n",
    "count_2 = 3\n",
    "for length in L:\n",
    "    #print (L[count_1])\n",
    "    #print (L[count_2])\n",
    "    if L[count_1] != L[count_2]:\n",
    "        print ('error')\n",
    "        print (count_1, count_2)\n",
    "        #break\n",
    "    else:\n",
    "        count_1 += 4\n",
    "        count_2 += 4 \n",
    "    \n",
    "    "
   ]
  },
  {
   "cell_type": "code",
   "execution_count": 2,
   "metadata": {},
   "outputs": [
    {
     "name": "stdout",
     "output_type": "stream",
     "text": [
      "error\n",
      "1 3\n",
      "error\n",
      "5 7\n"
     ]
    },
    {
     "ename": "IndexError",
     "evalue": "list index out of range",
     "output_type": "error",
     "traceback": [
      "\u001b[0;31m---------------------------------------------------------------------------\u001b[0m",
      "\u001b[0;31mIndexError\u001b[0m                                Traceback (most recent call last)",
      "\u001b[0;32m<ipython-input-2-5158ba509608>\u001b[0m in \u001b[0;36m<module>\u001b[0;34m()\u001b[0m\n\u001b[1;32m     14\u001b[0m \u001b[0mcount_2\u001b[0m \u001b[0;34m=\u001b[0m \u001b[0;36m3\u001b[0m\u001b[0;34m\u001b[0m\u001b[0m\n\u001b[1;32m     15\u001b[0m \u001b[0;32mfor\u001b[0m \u001b[0mlength\u001b[0m \u001b[0;32min\u001b[0m \u001b[0mL\u001b[0m\u001b[0;34m:\u001b[0m\u001b[0;34m\u001b[0m\u001b[0m\n\u001b[0;32m---> 16\u001b[0;31m     \u001b[0;32mif\u001b[0m \u001b[0mL\u001b[0m\u001b[0;34m[\u001b[0m\u001b[0mcount_1\u001b[0m\u001b[0;34m]\u001b[0m \u001b[0;34m==\u001b[0m \u001b[0mL\u001b[0m\u001b[0;34m[\u001b[0m\u001b[0mcount_2\u001b[0m\u001b[0;34m]\u001b[0m\u001b[0;34m:\u001b[0m\u001b[0;34m\u001b[0m\u001b[0m\n\u001b[0m\u001b[1;32m     17\u001b[0m         \u001b[0;32mcontinue\u001b[0m\u001b[0;34m\u001b[0m\u001b[0m\n\u001b[1;32m     18\u001b[0m     \u001b[0;32melse\u001b[0m\u001b[0;34m:\u001b[0m\u001b[0;34m\u001b[0m\u001b[0m\n",
      "\u001b[0;31mIndexError\u001b[0m: list index out of range"
     ]
    }
   ],
   "source": [
    "# import fastq file\n",
    "filename = \"sequence.fastq\"\n",
    "file = open(filename, 'r')\n",
    "fastq = file.readlines()\n",
    "\n",
    "# Count characters for each line\n",
    "L = []\n",
    "for line in fastq:\n",
    "    line = line.replace('\\n','') # remove \\n characters for accurate count\n",
    "    L.append(len(line)) \n",
    "\n",
    "# test if line 2 and line 4 are the same value (length) for every set of 4\n",
    "count_1 = 1\n",
    "count_2 = 3\n",
    "for length in L:\n",
    "    if L[count_1] == L[count_2]:\n",
    "        continue\n",
    "    else:\n",
    "        print ('error')\n",
    "        print (count_1, count_2) # tell me which lines have the error\n",
    "    count_1 += 4\n",
    "    count_2 += 4 \n",
    "    \n",
    "    "
   ]
  },
  {
   "cell_type": "code",
   "execution_count": null,
   "metadata": {},
   "outputs": [],
   "source": []
  }
 ],
 "metadata": {
  "kernelspec": {
   "display_name": "Python 3",
   "language": "python",
   "name": "python3"
  },
  "language_info": {
   "codemirror_mode": {
    "name": "ipython",
    "version": 3
   },
   "file_extension": ".py",
   "mimetype": "text/x-python",
   "name": "python",
   "nbconvert_exporter": "python",
   "pygments_lexer": "ipython3",
   "version": "3.6.1"
  }
 },
 "nbformat": 4,
 "nbformat_minor": 2
}
