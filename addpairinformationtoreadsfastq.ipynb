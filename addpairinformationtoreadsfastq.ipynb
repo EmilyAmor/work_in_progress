{
 "cells": [
  {
   "cell_type": "code",
   "execution_count": 32,
   "metadata": {},
   "outputs": [
    {
     "name": "stdout",
     "output_type": "stream",
     "text": [
      "['@D00765:114:HTT3KBCXY:1:1106:1206:1928 1:N:0:ATCACG\\n', 'NTTGTTGCTCGCTTTCCCGAATCGAATTCGCGTACCCAGTGAGACATTGGAGACATAGAACTGGGTAGCGGGTGGATTTGCATGAAGATTTGATGAAGTTTGTTGGGTTGGACTGTTTTGGAAAGGTGGATTCAGCTGTGGCAACCGCGT\\n', '+\\n', '#<<<<GGGGIIGGIGGIGGGGIGIIIGIGIGIGIIGGGIIIGIAGGGGGGIGGGGGGIIIIIGGIIIIGIGIIIIIGGGGGGGGGGGGGGAGGGGGGGGGAGGGGGGGIIIGIIIGIGGGIIGGGIIIIIGIGIGGIIIIIGAGGAGGGGGG\\n', '@D00765:114:HTT3KBCXY:1:1106:1048:1949 1:N:0:ATCACG\\n', 'AAGCAATCGGTTCAAATAGATTATTCAACAACTAGTTCTTGACCCTTAAAATTTGCTTTATGCCTTTAGAATTTTACTTCTAACATACAAAAATTCTATTCCATAACTGCAACTCCTCCAGCAGCTTTTAGCTTTTCTATGATACCATTTT\\n', '+\\n', 'A...AAGGAGGGG.GAGGGG.AGGGGAGGG.AGG<AG.<GGGAGIGGGIGAGGGGGGGGGGG.<<GGG<AG.GAGG.GGGGGGAGGGIIAGA<.GAAGAAGIGGGGIGGGGGGGGGGGGGAG.<.<AGAGGGGGAGGAGAGG.GAAGGGGG.\\n', '@D00765:114:HTT3KBCXY:1:1106:1206:1928 1:N:0:ATCACG\\n', 'NTTGTTGCTCGCTTTCCCGAATCGAATTCGCGTACCCAGTGAGACATTGGAGACATAGAACTGGGTAGCGGGTGGATTTGCATGAAGATTTGATGAAGTTTGTTGGGTTGGACTGTTTTGGAAAGGTGGATTCAGCTGTGGCAACCGCGT\\n', '+\\n', '#<<<<GGGGIIGGIGGIGGGGIGIIIGIGIGIGIIGGGIIIGIAGGGGGGIGGGGGGIIIIIGGIIIIGIGIIIIIGGGGGGGGGGGGGGAGGGGGGGGGAGGGGGGGIIIGIIIGIGGGIIGGGIIIIIGIGIGGIIIIIGAGGAGGGGGG\\n', '@D00765:114:HTT3KBCXY:1:1106:1048:1949 1:N:0:ATCACG\\n', 'AAGCAATCGGTTCAAATAGATTATTCAACAACTAGTTCTTGACCCTTAAAATTTGCTTTATGCCTTTAGAATTTTACTTCTAACATACAAAAATTCTATTCCATAACTGCAACTCCTCCAGCAGCTTTTAGCTTTTCTATGATACCATTTT\\n', '+\\n', 'A...AAGGAGGGG.GAGGGG.AGGGGAGGG.AGG<AG.<GGGAGIGGGIGAGGGGGGGGGGG.<<GGG<AG.GAGG.GGGGGGAGGGIIAGA<.GAAGAAGIGGGGIGGGGGGGGGGGGGAG.<.<AGAGGGGGAGGAGAGG.GAAGGGGG.\\n']\n"
     ]
    }
   ],
   "source": [
    "filename = \"sequence.fastq\"\n",
    "file = open(filename, 'r')\n",
    "fastq = file.readlines()\n",
    "print (fastq)\n",
    "\n"
   ]
  },
  {
   "cell_type": "code",
   "execution_count": 33,
   "metadata": {},
   "outputs": [
    {
     "name": "stdout",
     "output_type": "stream",
     "text": [
      "['@D00765:114:HTT3KBCXY:1:1106:1206:1928 1:N:0:ATCACG', 'NTTGTTGCTCGCTTTCCCGAATCGAATTCGCGTACCCAGTGAGACATTGGAGACATAGAACTGGGTAGCGGGTGGATTTGCATGAAGATTTGATGAAGTTTGTTGGGTTGGACTGTTTTGGAAAGGTGGATTCAGCTGTGGCAACCGCGT', '+', '#<<<<GGGGIIGGIGGIGGGGIGIIIGIGIGIGIIGGGIIIGIAGGGGGGIGGGGGGIIIIIGGIIIIGIGIIIIIGGGGGGGGGGGGGGAGGGGGGGGGAGGGGGGGIIIGIIIGIGGGIIGGGIIIIIGIGIGGIIIIIGAGGAGGGGGG', '@D00765:114:HTT3KBCXY:1:1106:1048:1949 1:N:0:ATCACG', 'AAGCAATCGGTTCAAATAGATTATTCAACAACTAGTTCTTGACCCTTAAAATTTGCTTTATGCCTTTAGAATTTTACTTCTAACATACAAAAATTCTATTCCATAACTGCAACTCCTCCAGCAGCTTTTAGCTTTTCTATGATACCATTTT', '+', 'A...AAGGAGGGG.GAGGGG.AGGGGAGGG.AGG<AG.<GGGAGIGGGIGAGGGGGGGGGGG.<<GGG<AG.GAGG.GGGGGGAGGGIIAGA<.GAAGAAGIGGGGIGGGGGGGGGGGGGAG.<.<AGAGGGGGAGGAGAGG.GAAGGGGG.', '@D00765:114:HTT3KBCXY:1:1106:1206:1928 1:N:0:ATCACG', 'NTTGTTGCTCGCTTTCCCGAATCGAATTCGCGTACCCAGTGAGACATTGGAGACATAGAACTGGGTAGCGGGTGGATTTGCATGAAGATTTGATGAAGTTTGTTGGGTTGGACTGTTTTGGAAAGGTGGATTCAGCTGTGGCAACCGCGT', '+', '#<<<<GGGGIIGGIGGIGGGGIGIIIGIGIGIGIIGGGIIIGIAGGGGGGIGGGGGGIIIIIGGIIIIGIGIIIIIGGGGGGGGGGGGGGAGGGGGGGGGAGGGGGGGIIIGIIIGIGGGIIGGGIIIIIGIGIGGIIIIIGAGGAGGGGGG', '@D00765:114:HTT3KBCXY:1:1106:1048:1949 1:N:0:ATCACG', 'AAGCAATCGGTTCAAATAGATTATTCAACAACTAGTTCTTGACCCTTAAAATTTGCTTTATGCCTTTAGAATTTTACTTCTAACATACAAAAATTCTATTCCATAACTGCAACTCCTCCAGCAGCTTTTAGCTTTTCTATGATACCATTTT', '+', 'A...AAGGAGGGG.GAGGGG.AGGGGAGGG.AGG<AG.<GGGAGIGGGIGAGGGGGGGGGGG.<<GGG<AG.GAGG.GGGGGGAGGGIIAGA<.GAAGAAGIGGGGIGGGGGGGGGGGGGAG.<.<AGAGGGGGAGGAGAGG.GAAGGGGG.']\n"
     ]
    }
   ],
   "source": [
    "L =[]\n",
    "for line in fastq:\n",
    "    line = line.replace('\\n','') # remove \\n characters for accurate count\n",
    "    L.append(line)\n",
    "print (L)"
   ]
  },
  {
   "cell_type": "code",
   "execution_count": 76,
   "metadata": {},
   "outputs": [
    {
     "ename": "TypeError",
     "evalue": "must be str, not int",
     "output_type": "error",
     "traceback": [
      "\u001b[0;31m---------------------------------------------------------------------------\u001b[0m",
      "\u001b[0;31mTypeError\u001b[0m                                 Traceback (most recent call last)",
      "\u001b[0;32m<ipython-input-76-e86bd02f3085>\u001b[0m in \u001b[0;36m<module>\u001b[0;34m()\u001b[0m\n\u001b[1;32m      3\u001b[0m \u001b[0;32mfor\u001b[0m \u001b[0mL\u001b[0m\u001b[0;34m[\u001b[0m\u001b[0mcount\u001b[0m\u001b[0;34m]\u001b[0m \u001b[0;32min\u001b[0m \u001b[0mL\u001b[0m\u001b[0;34m:\u001b[0m\u001b[0;34m\u001b[0m\u001b[0m\n\u001b[1;32m      4\u001b[0m     \u001b[0;32mif\u001b[0m \u001b[0mL\u001b[0m\u001b[0;34m[\u001b[0m\u001b[0mcount\u001b[0m\u001b[0;34m]\u001b[0m\u001b[0;34m.\u001b[0m\u001b[0mstartswith\u001b[0m\u001b[0;34m(\u001b[0m\u001b[0;34m\"@\"\u001b[0m\u001b[0;34m)\u001b[0m\u001b[0;34m:\u001b[0m\u001b[0;34m\u001b[0m\u001b[0m\n\u001b[0;32m----> 5\u001b[0;31m         \u001b[0mfastq_new\u001b[0m\u001b[0;34m.\u001b[0m\u001b[0mappend\u001b[0m\u001b[0;34m(\u001b[0m\u001b[0mL\u001b[0m\u001b[0;34m[\u001b[0m\u001b[0mcount\u001b[0m\u001b[0;34m]\u001b[0m \u001b[0;34m+\u001b[0m \u001b[0;34m(\u001b[0m\u001b[0mord\u001b[0m\u001b[0;34m(\u001b[0m\u001b[0;34m\"\\x01\"\u001b[0m\u001b[0;34m)\u001b[0m\u001b[0;34m)\u001b[0m \u001b[0;34m)\u001b[0m\u001b[0;34m\u001b[0m\u001b[0m\n\u001b[0m\u001b[1;32m      6\u001b[0m     \u001b[0;32melse\u001b[0m\u001b[0;34m:\u001b[0m\u001b[0;34m\u001b[0m\u001b[0m\n\u001b[1;32m      7\u001b[0m         \u001b[0mfastq_new\u001b[0m\u001b[0;34m.\u001b[0m\u001b[0mappend\u001b[0m\u001b[0;34m(\u001b[0m\u001b[0mL\u001b[0m\u001b[0;34m[\u001b[0m\u001b[0mcount\u001b[0m\u001b[0;34m]\u001b[0m\u001b[0;34m)\u001b[0m\u001b[0;34m\u001b[0m\u001b[0m\n",
      "\u001b[0;31mTypeError\u001b[0m: must be str, not int"
     ]
    }
   ],
   "source": [
    "count = 0\n",
    "fastq_new = []\n",
    "for L[count] in L:\n",
    "    if L[count].startswith(\"@\"):\n",
    "        fastq_new.append(L[count] + str(ord(\"\\x01\")) )\n",
    "    else:\n",
    "        fastq_new.append(L[count])\n",
    "    count += 1\n",
    "print (fastq_new)       "
   ]
  },
  {
   "cell_type": "code",
   "execution_count": 74,
   "metadata": {},
   "outputs": [
    {
     "name": "stdout",
     "output_type": "stream",
     "text": [
      "['@D00765:114:HTT3KBCXY:1:1106:1206:1928 1:N:0:ATCACG\\n\\x01', 'NTTGTTGCTCGCTTTCCCGAATCGAATTCGCGTACCCAGTGAGACATTGGAGACATAGAACTGGGTAGCGGGTGGATTTGCATGAAGATTTGATGAAGTTTGTTGGGTTGGACTGTTTTGGAAAGGTGGATTCAGCTGTGGCAACCGCGT\\n', '+\\n', '#<<<<GGGGIIGGIGGIGGGGIGIIIGIGIGIGIIGGGIIIGIAGGGGGGIGGGGGGIIIIIGGIIIIGIGIIIIIGGGGGGGGGGGGGGAGGGGGGGGGAGGGGGGGIIIGIIIGIGGGIIGGGIIIIIGIGIGGIIIIIGAGGAGGGGGG\\n', '@D00765:114:HTT3KBCXY:1:1106:1048:1949 1:N:0:ATCACG\\n\\x01', 'AAGCAATCGGTTCAAATAGATTATTCAACAACTAGTTCTTGACCCTTAAAATTTGCTTTATGCCTTTAGAATTTTACTTCTAACATACAAAAATTCTATTCCATAACTGCAACTCCTCCAGCAGCTTTTAGCTTTTCTATGATACCATTTT\\n', '+\\n', 'A...AAGGAGGGG.GAGGGG.AGGGGAGGG.AGG<AG.<GGGAGIGGGIGAGGGGGGGGGGG.<<GGG<AG.GAGG.GGGGGGAGGGIIAGA<.GAAGAAGIGGGGIGGGGGGGGGGGGGAG.<.<AGAGGGGGAGGAGAGG.GAAGGGGG.\\n', '@D00765:114:HTT3KBCXY:1:1106:1206:1928 1:N:0:ATCACG\\n\\x01', 'NTTGTTGCTCGCTTTCCCGAATCGAATTCGCGTACCCAGTGAGACATTGGAGACATAGAACTGGGTAGCGGGTGGATTTGCATGAAGATTTGATGAAGTTTGTTGGGTTGGACTGTTTTGGAAAGGTGGATTCAGCTGTGGCAACCGCGT\\n', '+\\n', '#<<<<GGGGIIGGIGGIGGGGIGIIIGIGIGIGIIGGGIIIGIAGGGGGGIGGGGGGIIIIIGGIIIIGIGIIIIIGGGGGGGGGGGGGGAGGGGGGGGGAGGGGGGGIIIGIIIGIGGGIIGGGIIIIIGIGIGGIIIIIGAGGAGGGGGG\\n', '@D00765:114:HTT3KBCXY:1:1106:1048:1949 1:N:0:ATCACG\\n\\x01', 'AAGCAATCGGTTCAAATAGATTATTCAACAACTAGTTCTTGACCCTTAAAATTTGCTTTATGCCTTTAGAATTTTACTTCTAACATACAAAAATTCTATTCCATAACTGCAACTCCTCCAGCAGCTTTTAGCTTTTCTATGATACCATTTT\\n', '+\\n', 'A...AAGGAGGGG.GAGGGG.AGGGGAGGG.AGG<AG.<GGGAGIGGGIGAGGGGGGGGGGG.<<GGG<AG.GAGG.GGGGGGAGGGIIAGA<.GAAGAAGIGGGGIGGGGGGGGGGGGGAG.<.<AGAGGGGGAGGAGAGG.GAAGGGGG.\\n']\n"
     ]
    }
   ],
   "source": [
    "count = 0\n",
    "fastq_new = []\n",
    "for fastq[count] in fastq:\n",
    "    if fastq[count].startswith(\"@\"):\n",
    "        fastq_new.append(fastq[count] + \"\\1\")\n",
    "    else:\n",
    "        fastq_new.append(fastq[count])\n",
    "    count += 1\n",
    "print (fastq_new)       "
   ]
  },
  {
   "cell_type": "markdown",
   "metadata": {},
   "source": [
    "## Regular Expression module\n"
   ]
  },
  {
   "cell_type": "code",
   "execution_count": 39,
   "metadata": {},
   "outputs": [],
   "source": [
    "s = '@D00765:114:HTT3KBCXY:1:1106:1206:1928 1:N:0:ATCACG'"
   ]
  },
  {
   "cell_type": "code",
   "execution_count": 52,
   "metadata": {},
   "outputs": [
    {
     "data": {
      "text/plain": [
       "<_sre.SRE_Match object; span=(0, 1), match='@'>"
      ]
     },
     "execution_count": 52,
     "metadata": {},
     "output_type": "execute_result"
    }
   ],
   "source": [
    "import re\n",
    "re.search('@',s)"
   ]
  },
  {
   "cell_type": "code",
   "execution_count": null,
   "metadata": {},
   "outputs": [],
   "source": []
  }
 ],
 "metadata": {
  "kernelspec": {
   "display_name": "Python 3",
   "language": "python",
   "name": "python3"
  },
  "language_info": {
   "codemirror_mode": {
    "name": "ipython",
    "version": 3
   },
   "file_extension": ".py",
   "mimetype": "text/x-python",
   "name": "python",
   "nbconvert_exporter": "python",
   "pygments_lexer": "ipython3",
   "version": "3.6.1"
  }
 },
 "nbformat": 4,
 "nbformat_minor": 2
}
